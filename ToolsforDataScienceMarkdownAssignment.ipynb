{
 "cells": [
  {
   "cell_type": "markdown",
   "metadata": {},
   "source": [
    "<center>\n",
    "    <img src=\"https://cf-courses-data.s3.us.cloud-object-storage.appdomain.cloud/IBMDeveloperSkillsNetwork-DS0105EN-SkillsNetwork/labs/Module2/images/SN_web_lightmode.png\" width=\"300\" alt=\"cognitiveclass.ai logo\">\n",
    "</center>\n"
   ]
  },
  {
   "cell_type": "markdown",
   "metadata": {},
   "source": [
    "#### Add your code below following the instructions given in the course\n"
   ]
  },
  {
   "cell_type": "markdown",
   "metadata": {},
   "source": [
    "# My Jupyter Notebook on IBM Watson Studio"
   ]
  },
  {
   "cell_type": "markdown",
   "metadata": {},
   "source": [
    "**Natalie Ring**\n",
    "\n",
    "Data Scientist"
   ]
  },
  {
   "cell_type": "markdown",
   "metadata": {},
   "source": [
    "*I am interested in data science because I am passionate about math and science. The skills data science provides me will allow me to become a more multifaceted physicist and mathematician.*"
   ]
  },
  {
   "cell_type": "markdown",
   "metadata": {},
   "source": [
    "### In the code below, a basic arithmetic equation processes addition. Specifically, a 3 digit number(394) and a two digit number(23)."
   ]
  },
  {
   "cell_type": "code",
   "execution_count": 3,
   "metadata": {},
   "outputs": [
    {
     "data": {
      "text/plain": [
       "417"
      ]
     },
     "execution_count": 3,
     "metadata": {},
     "output_type": "execute_result"
    }
   ],
   "source": [
    "394+23"
   ]
  },
  {
   "cell_type": "markdown",
   "metadata": {},
   "source": [
    "1. Terrestrial Planets\n",
    "    1. Mercury\n",
    "    2. Venus\n",
    "    3. Earth\n",
    "    4. Mars\n",
    "5. Jovian Planets\n",
    "    1. Jupiter\n",
    "    2. Saturn\n",
    "    3. Uranus\n",
    "    4. Neptune\n",
    "10. Pluto \n",
    "- Terrestrial Planets\n",
    "    * Mercury\n",
    "    * Venus\n",
    "    * Earth\n",
    "    * Mars\n",
    "- Jovian Planets\n",
    "    * Jupiter\n",
    "    * Saturn\n",
    "    * Uranus \n",
    "    * Neptune\n",
    "- Pluto \n",
    "\n",
    "[Overview of Terrestrial Planets](https://solarsystem.nasa.gov/basics/chapter1-2/)\n",
    "\n",
    "[Overview of Jovian Planets](https://www.nasa.gov/sites/default/files/atoms/files/04-solar-system-the-jovian-planets.pdf)"
   ]
  }
 ],
 "metadata": {
  "kernelspec": {
   "display_name": "Python",
   "language": "python",
   "name": "conda-env-python-py"
  },
  "language_info": {
   "codemirror_mode": {
    "name": "ipython",
    "version": 3
   },
   "file_extension": ".py",
   "mimetype": "text/x-python",
   "name": "python",
   "nbconvert_exporter": "python",
   "pygments_lexer": "ipython3",
   "version": "3.7.12"
  }
 },
 "nbformat": 4,
 "nbformat_minor": 4
}
