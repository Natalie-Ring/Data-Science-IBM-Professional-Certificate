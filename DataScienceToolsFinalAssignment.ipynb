{
 "cells": [
  {
   "cell_type": "markdown",
   "metadata": {},
   "source": [
    "<center>\n",
    "    <img src=\"https://cf-courses-data.s3.us.cloud-object-storage.appdomain.cloud/IBMDeveloperSkillsNetwork-DS0105EN-SkillsNetwork/labs/Module2/images/SN_web_lightmode.png\" width=\"300\" alt=\"cognitiveclass.ai logo\">\n",
    "</center>\n"
   ]
  },
  {
   "cell_type": "markdown",
   "metadata": {},
   "source": [
    "# Data Science Tools Final Assignment"
   ]
  },
  {
   "cell_type": "markdown",
   "metadata": {},
   "source": [
    "Hi everyone! My name is Natalie and I am studying to be a Data Scientist. I recently received my bachelor's degree in Mathematics and Physics. I am extremely passionate about the space industry and hope the skills I've acquired in this course will help me in my future endeavors. Below are a variety of the techniques I've learned in each module.  "
   ]
  },
  {
   "cell_type": "markdown",
   "metadata": {},
   "source": [
    "1. Data Science Languages\n",
    "    1. Python\n",
    "    2. R\n",
    "    3. SQL\n",
    "    4. Julia\n",
    "    5. C++"
   ]
  },
  {
   "cell_type": "markdown",
   "metadata": {},
   "source": [
    "2. Data Science Libraries\n",
    "    1. Pandas\n",
    "    2. NumPy\n",
    "    3. Matplotlib \n",
    "    4. Scikit-learn\n",
    "    5. TensorFlow"
   ]
  },
  {
   "cell_type": "markdown",
   "metadata": {},
   "source": [
    "Catagories|Example\n",
    "-|-\n",
    "Data Management|MySQL\n",
    "Data Integration_Transformation|Apache_Airflow\n",
    "Data Visualization|Hue\n",
    "Model Deployment|Seldon\n",
    "Model Monitoring and Assessment|ModelDB"
   ]
  },
  {
   "cell_type": "markdown",
   "metadata": {},
   "source": [
    "In the code below, a basic arithmetic equation processes addition an multiplication. Specifically, the addition(denoted+) of two numbers(63+37) and the multiplication of 9."
   ]
  },
  {
   "cell_type": "code",
   "execution_count": 52,
   "metadata": {},
   "outputs": [
    {
     "data": {
      "text/plain": [
       "873"
      ]
     },
     "execution_count": 52,
     "metadata": {},
     "output_type": "execute_result"
    }
   ],
   "source": [
    "# Arithmetic Equation\n",
    "(63+37)*9"
   ]
  },
  {
   "cell_type": "markdown",
   "metadata": {},
   "source": [
    "In the code below, minutes will be converted to hours. Specifically, 873 minutes. There are 60 minutes in one hour, so we simply divide by 60, the convert the remaining percentage to minutes. "
   ]
  },
  {
   "cell_type": "code",
   "execution_count": 53,
   "metadata": {},
   "outputs": [
    {
     "name": "stdout",
     "output_type": "stream",
     "text": [
      "14:33\n"
     ]
    }
   ],
   "source": [
    "Total_Minutes = 873\n",
    "Hours = Total_Minutes//60\n",
    "Minutes = Total_Minutes %60\n",
    "time_string = \"{}:{}\".format(Hours,Minutes)\n",
    "print(time_string)"
   ]
  },
  {
   "cell_type": "markdown",
   "metadata": {},
   "source": [
    "1. **Objectives**\n",
    "    1. Convey knowledge of Jupyter Notebook, Data Science Languages, Libraries, and Tools.\n",
    "    2. Successfully write arithmetic equations and applied mathematics.\n",
    "    3. Share my notebook for public access. "
   ]
  },
  {
   "cell_type": "markdown",
   "metadata": {},
   "source": [
    "## Author: Natalie Ring"
   ]
  }
 ],
 "metadata": {
  "kernelspec": {
   "display_name": "Python",
   "language": "python",
   "name": "conda-env-python-py"
  },
  "language_info": {
   "codemirror_mode": {
    "name": "ipython",
    "version": 3
   },
   "file_extension": ".py",
   "mimetype": "text/x-python",
   "name": "python",
   "nbconvert_exporter": "python",
   "pygments_lexer": "ipython3",
   "version": "3.7.12"
  }
 },
 "nbformat": 4,
 "nbformat_minor": 4
}
